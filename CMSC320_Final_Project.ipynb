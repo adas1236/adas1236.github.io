{
 "cells": [
  {
   "cell_type": "markdown",
   "metadata": {
    "id": "Qe1xxoN82NTF"
   },
   "source": [
    "# Predicting Walmart Sales\n",
    "Avik Das"
   ]
  },
  {
   "cell_type": "markdown",
   "metadata": {
    "id": "xlhn00oK1cLD",
    "jp-MarkdownHeadingCollapsed": true
   },
   "source": [
    "### Preliminaries:\n",
    "\n",
    "The code block below imports all the libraries and functions used in this project."
   ]
  },
  {
   "cell_type": "code",
   "execution_count": null,
   "metadata": {},
   "outputs": [],
   "source": [
    "import numpy as np\n",
    "import pandas as pd\n",
    "from scipy.stats import mannwhitneyu\n",
    "from matplotlib import ticker\n",
    "from scipy.stats import pearsonr\n",
    "from scipy.stats import f_oneway\n",
    "from sklearn.model_selection import train_test_split\n",
    "from sklearn.preprocessing import StandardScaler\n",
    "from sklearn.neighbors import KNeighborsRegressor\n",
    "from sklearn.model_selection import train_test_split, cross_val_score, StratifiedKFold\n",
    "from sklearn.metrics import mean_squared_error, r2_score\n",
    "from sklearn.linear_model import LinearRegression\n",
    "from sklearn.preprocessing import PolynomialFeatures\n",
    "from sklearn.pipeline import make_pipeline\n",
    "import torch\n",
    "from torch.utils.data import DataLoader, TensorDataset\n",
    "import torch.nn as nn\n",
    "import torch.optim as optim\n",
    "import matplotlib.pyplot as plt"
   ]
  },
  {
   "cell_type": "markdown",
   "metadata": {},
   "source": [
    "Contribution Checkpoints\n",
    "    Section A: Project Idea (5%)\n",
    "    Section B: Dataset Curation and Preprocessing (5%)\n",
    "    Section C: Data Exploration and Summary Statistics (15%)\n",
    "    Section D: ML Algorithm Design/Development (25%)\n",
    "    Section E: ML Algorithm Training (20%)\n",
    "    Section F: Visualization, Results Analysis, Conclusion (15%)\n",
    "    Section G: Final Report Tutorial Creation (10%)\n",
    "\n",
    "Avik Das, 100% (I did the whole project on my own)\n",
    "\n",
    "We, all team members, agree together that the above information is true, and we are confident about our contributions to this submitted project/final tutorial.\n",
    "\n",
    "Avik Das - May 6th, 2023"
   ]
  },
  {
   "cell_type": "markdown",
   "metadata": {},
   "source": [
    "I did everything by myself."
   ]
  },
  {
   "cell_type": "markdown",
   "metadata": {
    "id": "xlhn00oK1cLD",
    "jp-MarkdownHeadingCollapsed": true
   },
   "source": [
    "### Section A: Project Idea"
   ]
  },
  {
   "cell_type": "markdown",
   "metadata": {
    "id": "RUJOIS9R6pSm"
   },
   "source": [
    "My dataset is [this  Kaggle Dataset](https://www.kaggle.com/datasets/mikhail1681/walmart-sales) on Walmart Sales. I chose this dataset because I think that there could be some interesting trends in the data based on the factors in the dataset (time, unemployment). First, we import some starter libraries, and set up our dataset."
   ]
  },
  {
   "cell_type": "code",
   "execution_count": 1,
   "metadata": {
    "colab": {
     "base_uri": "https://localhost:8080/",
     "height": 423
    },
    "id": "TYy_xuJY6kG8",
    "outputId": "ecc6f7d3-37e0-4e7a-d8d4-bad8c46cf5ea"
   },
   "outputs": [
    {
     "data": {
      "application/vnd.google.colaboratory.intrinsic+json": {
       "summary": "{\n  \"name\": \"df\",\n  \"rows\": 6435,\n  \"fields\": [\n    {\n      \"column\": \"Store\",\n      \"properties\": {\n        \"dtype\": \"number\",\n        \"std\": 12,\n        \"min\": 1,\n        \"max\": 45,\n        \"num_unique_values\": 45,\n        \"samples\": [\n          40,\n          26,\n          27\n        ],\n        \"semantic_type\": \"\",\n        \"description\": \"\"\n      }\n    },\n    {\n      \"column\": \"Date\",\n      \"properties\": {\n        \"dtype\": \"category\",\n        \"num_unique_values\": 143,\n        \"samples\": [\n          \"04-05-2012\",\n          \"18-06-2010\",\n          \"02-09-2011\"\n        ],\n        \"semantic_type\": \"\",\n        \"description\": \"\"\n      }\n    },\n    {\n      \"column\": \"Weekly_Sales\",\n      \"properties\": {\n        \"dtype\": \"number\",\n        \"std\": 564366.6220536975,\n        \"min\": 209986.25,\n        \"max\": 3818686.45,\n        \"num_unique_values\": 6435,\n        \"samples\": [\n          1138800.32,\n          1304850.67,\n          1769296.25\n        ],\n        \"semantic_type\": \"\",\n        \"description\": \"\"\n      }\n    },\n    {\n      \"column\": \"Holiday_Flag\",\n      \"properties\": {\n        \"dtype\": \"number\",\n        \"std\": 0,\n        \"min\": 0,\n        \"max\": 1,\n        \"num_unique_values\": 2,\n        \"samples\": [\n          1,\n          0\n        ],\n        \"semantic_type\": \"\",\n        \"description\": \"\"\n      }\n    },\n    {\n      \"column\": \"Temperature\",\n      \"properties\": {\n        \"dtype\": \"number\",\n        \"std\": 18.44493287581158,\n        \"min\": -2.06,\n        \"max\": 100.14,\n        \"num_unique_values\": 3528,\n        \"samples\": [\n          51.13,\n          98.15\n        ],\n        \"semantic_type\": \"\",\n        \"description\": \"\"\n      }\n    },\n    {\n      \"column\": \"Fuel_Price\",\n      \"properties\": {\n        \"dtype\": \"number\",\n        \"std\": 0.4590197071928525,\n        \"min\": 2.472,\n        \"max\": 4.468,\n        \"num_unique_values\": 892,\n        \"samples\": [\n          2.84,\n          3.95\n        ],\n        \"semantic_type\": \"\",\n        \"description\": \"\"\n      }\n    },\n    {\n      \"column\": \"CPI\",\n      \"properties\": {\n        \"dtype\": \"number\",\n        \"std\": 39.35671229566418,\n        \"min\": 126.064,\n        \"max\": 227.2328068,\n        \"num_unique_values\": 2145,\n        \"samples\": [\n          184.613419,\n          214.1083654\n        ],\n        \"semantic_type\": \"\",\n        \"description\": \"\"\n      }\n    },\n    {\n      \"column\": \"Unemployment\",\n      \"properties\": {\n        \"dtype\": \"number\",\n        \"std\": 1.8758847818627977,\n        \"min\": 3.879,\n        \"max\": 14.313,\n        \"num_unique_values\": 349,\n        \"samples\": [\n          8.185,\n          7.804\n        ],\n        \"semantic_type\": \"\",\n        \"description\": \"\"\n      }\n    }\n  ]\n}",
       "type": "dataframe",
       "variable_name": "df"
      },
      "text/html": [
       "\n",
       "  <div id=\"df-9fec7a44-7a64-4119-9e24-bd6378a7ffe5\" class=\"colab-df-container\">\n",
       "    <div>\n",
       "<style scoped>\n",
       "    .dataframe tbody tr th:only-of-type {\n",
       "        vertical-align: middle;\n",
       "    }\n",
       "\n",
       "    .dataframe tbody tr th {\n",
       "        vertical-align: top;\n",
       "    }\n",
       "\n",
       "    .dataframe thead th {\n",
       "        text-align: right;\n",
       "    }\n",
       "</style>\n",
       "<table border=\"1\" class=\"dataframe\">\n",
       "  <thead>\n",
       "    <tr style=\"text-align: right;\">\n",
       "      <th></th>\n",
       "      <th>Store</th>\n",
       "      <th>Date</th>\n",
       "      <th>Weekly_Sales</th>\n",
       "      <th>Holiday_Flag</th>\n",
       "      <th>Temperature</th>\n",
       "      <th>Fuel_Price</th>\n",
       "      <th>CPI</th>\n",
       "      <th>Unemployment</th>\n",
       "    </tr>\n",
       "  </thead>\n",
       "  <tbody>\n",
       "    <tr>\n",
       "      <th>0</th>\n",
       "      <td>1</td>\n",
       "      <td>05-02-2010</td>\n",
       "      <td>1643690.90</td>\n",
       "      <td>0</td>\n",
       "      <td>42.31</td>\n",
       "      <td>2.572</td>\n",
       "      <td>211.096358</td>\n",
       "      <td>8.106</td>\n",
       "    </tr>\n",
       "    <tr>\n",
       "      <th>1</th>\n",
       "      <td>1</td>\n",
       "      <td>12-02-2010</td>\n",
       "      <td>1641957.44</td>\n",
       "      <td>1</td>\n",
       "      <td>38.51</td>\n",
       "      <td>2.548</td>\n",
       "      <td>211.242170</td>\n",
       "      <td>8.106</td>\n",
       "    </tr>\n",
       "    <tr>\n",
       "      <th>2</th>\n",
       "      <td>1</td>\n",
       "      <td>19-02-2010</td>\n",
       "      <td>1611968.17</td>\n",
       "      <td>0</td>\n",
       "      <td>39.93</td>\n",
       "      <td>2.514</td>\n",
       "      <td>211.289143</td>\n",
       "      <td>8.106</td>\n",
       "    </tr>\n",
       "    <tr>\n",
       "      <th>3</th>\n",
       "      <td>1</td>\n",
       "      <td>26-02-2010</td>\n",
       "      <td>1409727.59</td>\n",
       "      <td>0</td>\n",
       "      <td>46.63</td>\n",
       "      <td>2.561</td>\n",
       "      <td>211.319643</td>\n",
       "      <td>8.106</td>\n",
       "    </tr>\n",
       "    <tr>\n",
       "      <th>4</th>\n",
       "      <td>1</td>\n",
       "      <td>05-03-2010</td>\n",
       "      <td>1554806.68</td>\n",
       "      <td>0</td>\n",
       "      <td>46.50</td>\n",
       "      <td>2.625</td>\n",
       "      <td>211.350143</td>\n",
       "      <td>8.106</td>\n",
       "    </tr>\n",
       "    <tr>\n",
       "      <th>...</th>\n",
       "      <td>...</td>\n",
       "      <td>...</td>\n",
       "      <td>...</td>\n",
       "      <td>...</td>\n",
       "      <td>...</td>\n",
       "      <td>...</td>\n",
       "      <td>...</td>\n",
       "      <td>...</td>\n",
       "    </tr>\n",
       "    <tr>\n",
       "      <th>6430</th>\n",
       "      <td>45</td>\n",
       "      <td>28-09-2012</td>\n",
       "      <td>713173.95</td>\n",
       "      <td>0</td>\n",
       "      <td>64.88</td>\n",
       "      <td>3.997</td>\n",
       "      <td>192.013558</td>\n",
       "      <td>8.684</td>\n",
       "    </tr>\n",
       "    <tr>\n",
       "      <th>6431</th>\n",
       "      <td>45</td>\n",
       "      <td>05-10-2012</td>\n",
       "      <td>733455.07</td>\n",
       "      <td>0</td>\n",
       "      <td>64.89</td>\n",
       "      <td>3.985</td>\n",
       "      <td>192.170412</td>\n",
       "      <td>8.667</td>\n",
       "    </tr>\n",
       "    <tr>\n",
       "      <th>6432</th>\n",
       "      <td>45</td>\n",
       "      <td>12-10-2012</td>\n",
       "      <td>734464.36</td>\n",
       "      <td>0</td>\n",
       "      <td>54.47</td>\n",
       "      <td>4.000</td>\n",
       "      <td>192.327265</td>\n",
       "      <td>8.667</td>\n",
       "    </tr>\n",
       "    <tr>\n",
       "      <th>6433</th>\n",
       "      <td>45</td>\n",
       "      <td>19-10-2012</td>\n",
       "      <td>718125.53</td>\n",
       "      <td>0</td>\n",
       "      <td>56.47</td>\n",
       "      <td>3.969</td>\n",
       "      <td>192.330854</td>\n",
       "      <td>8.667</td>\n",
       "    </tr>\n",
       "    <tr>\n",
       "      <th>6434</th>\n",
       "      <td>45</td>\n",
       "      <td>26-10-2012</td>\n",
       "      <td>760281.43</td>\n",
       "      <td>0</td>\n",
       "      <td>58.85</td>\n",
       "      <td>3.882</td>\n",
       "      <td>192.308899</td>\n",
       "      <td>8.667</td>\n",
       "    </tr>\n",
       "  </tbody>\n",
       "</table>\n",
       "<p>6435 rows × 8 columns</p>\n",
       "</div>\n",
       "    <div class=\"colab-df-buttons\">\n",
       "\n",
       "  <div class=\"colab-df-container\">\n",
       "    <button class=\"colab-df-convert\" onclick=\"convertToInteractive('df-9fec7a44-7a64-4119-9e24-bd6378a7ffe5')\"\n",
       "            title=\"Convert this dataframe to an interactive table.\"\n",
       "            style=\"display:none;\">\n",
       "\n",
       "  <svg xmlns=\"http://www.w3.org/2000/svg\" height=\"24px\" viewBox=\"0 -960 960 960\">\n",
       "    <path d=\"M120-120v-720h720v720H120Zm60-500h600v-160H180v160Zm220 220h160v-160H400v160Zm0 220h160v-160H400v160ZM180-400h160v-160H180v160Zm440 0h160v-160H620v160ZM180-180h160v-160H180v160Zm440 0h160v-160H620v160Z\"/>\n",
       "  </svg>\n",
       "    </button>\n",
       "\n",
       "  <style>\n",
       "    .colab-df-container {\n",
       "      display:flex;\n",
       "      gap: 12px;\n",
       "    }\n",
       "\n",
       "    .colab-df-convert {\n",
       "      background-color: #E8F0FE;\n",
       "      border: none;\n",
       "      border-radius: 50%;\n",
       "      cursor: pointer;\n",
       "      display: none;\n",
       "      fill: #1967D2;\n",
       "      height: 32px;\n",
       "      padding: 0 0 0 0;\n",
       "      width: 32px;\n",
       "    }\n",
       "\n",
       "    .colab-df-convert:hover {\n",
       "      background-color: #E2EBFA;\n",
       "      box-shadow: 0px 1px 2px rgba(60, 64, 67, 0.3), 0px 1px 3px 1px rgba(60, 64, 67, 0.15);\n",
       "      fill: #174EA6;\n",
       "    }\n",
       "\n",
       "    .colab-df-buttons div {\n",
       "      margin-bottom: 4px;\n",
       "    }\n",
       "\n",
       "    [theme=dark] .colab-df-convert {\n",
       "      background-color: #3B4455;\n",
       "      fill: #D2E3FC;\n",
       "    }\n",
       "\n",
       "    [theme=dark] .colab-df-convert:hover {\n",
       "      background-color: #434B5C;\n",
       "      box-shadow: 0px 1px 3px 1px rgba(0, 0, 0, 0.15);\n",
       "      filter: drop-shadow(0px 1px 2px rgba(0, 0, 0, 0.3));\n",
       "      fill: #FFFFFF;\n",
       "    }\n",
       "  </style>\n",
       "\n",
       "    <script>\n",
       "      const buttonEl =\n",
       "        document.querySelector('#df-9fec7a44-7a64-4119-9e24-bd6378a7ffe5 button.colab-df-convert');\n",
       "      buttonEl.style.display =\n",
       "        google.colab.kernel.accessAllowed ? 'block' : 'none';\n",
       "\n",
       "      async function convertToInteractive(key) {\n",
       "        const element = document.querySelector('#df-9fec7a44-7a64-4119-9e24-bd6378a7ffe5');\n",
       "        const dataTable =\n",
       "          await google.colab.kernel.invokeFunction('convertToInteractive',\n",
       "                                                    [key], {});\n",
       "        if (!dataTable) return;\n",
       "\n",
       "        const docLinkHtml = 'Like what you see? Visit the ' +\n",
       "          '<a target=\"_blank\" href=https://colab.research.google.com/notebooks/data_table.ipynb>data table notebook</a>'\n",
       "          + ' to learn more about interactive tables.';\n",
       "        element.innerHTML = '';\n",
       "        dataTable['output_type'] = 'display_data';\n",
       "        await google.colab.output.renderOutput(dataTable, element);\n",
       "        const docLink = document.createElement('div');\n",
       "        docLink.innerHTML = docLinkHtml;\n",
       "        element.appendChild(docLink);\n",
       "      }\n",
       "    </script>\n",
       "  </div>\n",
       "\n",
       "\n",
       "<div id=\"df-0dad4d4f-c6a4-46f8-b966-114bf4d0198a\">\n",
       "  <button class=\"colab-df-quickchart\" onclick=\"quickchart('df-0dad4d4f-c6a4-46f8-b966-114bf4d0198a')\"\n",
       "            title=\"Suggest charts\"\n",
       "            style=\"display:none;\">\n",
       "\n",
       "<svg xmlns=\"http://www.w3.org/2000/svg\" height=\"24px\"viewBox=\"0 0 24 24\"\n",
       "     width=\"24px\">\n",
       "    <g>\n",
       "        <path d=\"M19 3H5c-1.1 0-2 .9-2 2v14c0 1.1.9 2 2 2h14c1.1 0 2-.9 2-2V5c0-1.1-.9-2-2-2zM9 17H7v-7h2v7zm4 0h-2V7h2v10zm4 0h-2v-4h2v4z\"/>\n",
       "    </g>\n",
       "</svg>\n",
       "  </button>\n",
       "\n",
       "<style>\n",
       "  .colab-df-quickchart {\n",
       "      --bg-color: #E8F0FE;\n",
       "      --fill-color: #1967D2;\n",
       "      --hover-bg-color: #E2EBFA;\n",
       "      --hover-fill-color: #174EA6;\n",
       "      --disabled-fill-color: #AAA;\n",
       "      --disabled-bg-color: #DDD;\n",
       "  }\n",
       "\n",
       "  [theme=dark] .colab-df-quickchart {\n",
       "      --bg-color: #3B4455;\n",
       "      --fill-color: #D2E3FC;\n",
       "      --hover-bg-color: #434B5C;\n",
       "      --hover-fill-color: #FFFFFF;\n",
       "      --disabled-bg-color: #3B4455;\n",
       "      --disabled-fill-color: #666;\n",
       "  }\n",
       "\n",
       "  .colab-df-quickchart {\n",
       "    background-color: var(--bg-color);\n",
       "    border: none;\n",
       "    border-radius: 50%;\n",
       "    cursor: pointer;\n",
       "    display: none;\n",
       "    fill: var(--fill-color);\n",
       "    height: 32px;\n",
       "    padding: 0;\n",
       "    width: 32px;\n",
       "  }\n",
       "\n",
       "  .colab-df-quickchart:hover {\n",
       "    background-color: var(--hover-bg-color);\n",
       "    box-shadow: 0 1px 2px rgba(60, 64, 67, 0.3), 0 1px 3px 1px rgba(60, 64, 67, 0.15);\n",
       "    fill: var(--button-hover-fill-color);\n",
       "  }\n",
       "\n",
       "  .colab-df-quickchart-complete:disabled,\n",
       "  .colab-df-quickchart-complete:disabled:hover {\n",
       "    background-color: var(--disabled-bg-color);\n",
       "    fill: var(--disabled-fill-color);\n",
       "    box-shadow: none;\n",
       "  }\n",
       "\n",
       "  .colab-df-spinner {\n",
       "    border: 2px solid var(--fill-color);\n",
       "    border-color: transparent;\n",
       "    border-bottom-color: var(--fill-color);\n",
       "    animation:\n",
       "      spin 1s steps(1) infinite;\n",
       "  }\n",
       "\n",
       "  @keyframes spin {\n",
       "    0% {\n",
       "      border-color: transparent;\n",
       "      border-bottom-color: var(--fill-color);\n",
       "      border-left-color: var(--fill-color);\n",
       "    }\n",
       "    20% {\n",
       "      border-color: transparent;\n",
       "      border-left-color: var(--fill-color);\n",
       "      border-top-color: var(--fill-color);\n",
       "    }\n",
       "    30% {\n",
       "      border-color: transparent;\n",
       "      border-left-color: var(--fill-color);\n",
       "      border-top-color: var(--fill-color);\n",
       "      border-right-color: var(--fill-color);\n",
       "    }\n",
       "    40% {\n",
       "      border-color: transparent;\n",
       "      border-right-color: var(--fill-color);\n",
       "      border-top-color: var(--fill-color);\n",
       "    }\n",
       "    60% {\n",
       "      border-color: transparent;\n",
       "      border-right-color: var(--fill-color);\n",
       "    }\n",
       "    80% {\n",
       "      border-color: transparent;\n",
       "      border-right-color: var(--fill-color);\n",
       "      border-bottom-color: var(--fill-color);\n",
       "    }\n",
       "    90% {\n",
       "      border-color: transparent;\n",
       "      border-bottom-color: var(--fill-color);\n",
       "    }\n",
       "  }\n",
       "</style>\n",
       "\n",
       "  <script>\n",
       "    async function quickchart(key) {\n",
       "      const quickchartButtonEl =\n",
       "        document.querySelector('#' + key + ' button');\n",
       "      quickchartButtonEl.disabled = true;  // To prevent multiple clicks.\n",
       "      quickchartButtonEl.classList.add('colab-df-spinner');\n",
       "      try {\n",
       "        const charts = await google.colab.kernel.invokeFunction(\n",
       "            'suggestCharts', [key], {});\n",
       "      } catch (error) {\n",
       "        console.error('Error during call to suggestCharts:', error);\n",
       "      }\n",
       "      quickchartButtonEl.classList.remove('colab-df-spinner');\n",
       "      quickchartButtonEl.classList.add('colab-df-quickchart-complete');\n",
       "    }\n",
       "    (() => {\n",
       "      let quickchartButtonEl =\n",
       "        document.querySelector('#df-0dad4d4f-c6a4-46f8-b966-114bf4d0198a button');\n",
       "      quickchartButtonEl.style.display =\n",
       "        google.colab.kernel.accessAllowed ? 'block' : 'none';\n",
       "    })();\n",
       "  </script>\n",
       "</div>\n",
       "    </div>\n",
       "  </div>\n"
      ],
      "text/plain": [
       "      Store        Date  Weekly_Sales  Holiday_Flag  Temperature  Fuel_Price  \\\n",
       "0         1  05-02-2010    1643690.90             0        42.31       2.572   \n",
       "1         1  12-02-2010    1641957.44             1        38.51       2.548   \n",
       "2         1  19-02-2010    1611968.17             0        39.93       2.514   \n",
       "3         1  26-02-2010    1409727.59             0        46.63       2.561   \n",
       "4         1  05-03-2010    1554806.68             0        46.50       2.625   \n",
       "...     ...         ...           ...           ...          ...         ...   \n",
       "6430     45  28-09-2012     713173.95             0        64.88       3.997   \n",
       "6431     45  05-10-2012     733455.07             0        64.89       3.985   \n",
       "6432     45  12-10-2012     734464.36             0        54.47       4.000   \n",
       "6433     45  19-10-2012     718125.53             0        56.47       3.969   \n",
       "6434     45  26-10-2012     760281.43             0        58.85       3.882   \n",
       "\n",
       "             CPI  Unemployment  \n",
       "0     211.096358         8.106  \n",
       "1     211.242170         8.106  \n",
       "2     211.289143         8.106  \n",
       "3     211.319643         8.106  \n",
       "4     211.350143         8.106  \n",
       "...          ...           ...  \n",
       "6430  192.013558         8.684  \n",
       "6431  192.170412         8.667  \n",
       "6432  192.327265         8.667  \n",
       "6433  192.330854         8.667  \n",
       "6434  192.308899         8.667  \n",
       "\n",
       "[6435 rows x 8 columns]"
      ]
     },
     "execution_count": 1,
     "metadata": {},
     "output_type": "execute_result"
    }
   ],
   "source": [
    "import numpy as np\n",
    "import pandas as pd\n",
    "\n",
    "df = pd.read_csv(\"Walmart_sales.csv\")\n",
    "df"
   ]
  },
  {
   "cell_type": "markdown",
   "metadata": {
    "id": "z_LIIPL81kKT",
    "jp-MarkdownHeadingCollapsed": true
   },
   "source": [
    "### Section B: Dataset Curation and Preprocessing"
   ]
  },
  {
   "cell_type": "markdown",
   "metadata": {
    "id": "H9OIfJOCUR3y"
   },
   "source": [
    "Next we clean our data. First, I checked for duplicates, but there were none. I also checked for missing data, but everything seems to be filled and prepared for analysis.\n",
    "\n",
    "Checking the datatypes, we see that Date is stored as an object rather than a datetime. We convert this using pandas. Everything else is already in an appropriate datatype. This allows us to begin analysis."
   ]
  },
  {
   "cell_type": "code",
   "execution_count": 2,
   "metadata": {
    "colab": {
     "base_uri": "https://localhost:8080/",
     "height": 423
    },
    "id": "gLm78ccFT5ul",
    "outputId": "7f0e8d7b-e381-4472-8347-60669865f9f8"
   },
   "outputs": [
    {
     "data": {
      "application/vnd.google.colaboratory.intrinsic+json": {
       "summary": "{\n  \"name\": \"df\",\n  \"rows\": 6435,\n  \"fields\": [\n    {\n      \"column\": \"Store\",\n      \"properties\": {\n        \"dtype\": \"number\",\n        \"std\": 12,\n        \"min\": 1,\n        \"max\": 45,\n        \"num_unique_values\": 45,\n        \"samples\": [\n          40,\n          26,\n          27\n        ],\n        \"semantic_type\": \"\",\n        \"description\": \"\"\n      }\n    },\n    {\n      \"column\": \"Date\",\n      \"properties\": {\n        \"dtype\": \"date\",\n        \"min\": \"2010-02-05 00:00:00\",\n        \"max\": \"2012-10-26 00:00:00\",\n        \"num_unique_values\": 143,\n        \"samples\": [\n          \"2012-05-04 00:00:00\",\n          \"2010-06-18 00:00:00\",\n          \"2011-09-02 00:00:00\"\n        ],\n        \"semantic_type\": \"\",\n        \"description\": \"\"\n      }\n    },\n    {\n      \"column\": \"Weekly_Sales\",\n      \"properties\": {\n        \"dtype\": \"number\",\n        \"std\": 564366.6220536975,\n        \"min\": 209986.25,\n        \"max\": 3818686.45,\n        \"num_unique_values\": 6435,\n        \"samples\": [\n          1138800.32,\n          1304850.67,\n          1769296.25\n        ],\n        \"semantic_type\": \"\",\n        \"description\": \"\"\n      }\n    },\n    {\n      \"column\": \"Holiday_Flag\",\n      \"properties\": {\n        \"dtype\": \"number\",\n        \"std\": 0,\n        \"min\": 0,\n        \"max\": 1,\n        \"num_unique_values\": 2,\n        \"samples\": [\n          1,\n          0\n        ],\n        \"semantic_type\": \"\",\n        \"description\": \"\"\n      }\n    },\n    {\n      \"column\": \"Temperature\",\n      \"properties\": {\n        \"dtype\": \"number\",\n        \"std\": 18.44493287581158,\n        \"min\": -2.06,\n        \"max\": 100.14,\n        \"num_unique_values\": 3528,\n        \"samples\": [\n          51.13,\n          98.15\n        ],\n        \"semantic_type\": \"\",\n        \"description\": \"\"\n      }\n    },\n    {\n      \"column\": \"Fuel_Price\",\n      \"properties\": {\n        \"dtype\": \"number\",\n        \"std\": 0.4590197071928525,\n        \"min\": 2.472,\n        \"max\": 4.468,\n        \"num_unique_values\": 892,\n        \"samples\": [\n          2.84,\n          3.95\n        ],\n        \"semantic_type\": \"\",\n        \"description\": \"\"\n      }\n    },\n    {\n      \"column\": \"CPI\",\n      \"properties\": {\n        \"dtype\": \"number\",\n        \"std\": 39.35671229566418,\n        \"min\": 126.064,\n        \"max\": 227.2328068,\n        \"num_unique_values\": 2145,\n        \"samples\": [\n          184.613419,\n          214.1083654\n        ],\n        \"semantic_type\": \"\",\n        \"description\": \"\"\n      }\n    },\n    {\n      \"column\": \"Unemployment\",\n      \"properties\": {\n        \"dtype\": \"number\",\n        \"std\": 1.8758847818627977,\n        \"min\": 3.879,\n        \"max\": 14.313,\n        \"num_unique_values\": 349,\n        \"samples\": [\n          8.185,\n          7.804\n        ],\n        \"semantic_type\": \"\",\n        \"description\": \"\"\n      }\n    }\n  ]\n}",
       "type": "dataframe",
       "variable_name": "df"
      },
      "text/html": [
       "\n",
       "  <div id=\"df-98bcf985-7f3b-471f-a88c-3765f2b9c90e\" class=\"colab-df-container\">\n",
       "    <div>\n",
       "<style scoped>\n",
       "    .dataframe tbody tr th:only-of-type {\n",
       "        vertical-align: middle;\n",
       "    }\n",
       "\n",
       "    .dataframe tbody tr th {\n",
       "        vertical-align: top;\n",
       "    }\n",
       "\n",
       "    .dataframe thead th {\n",
       "        text-align: right;\n",
       "    }\n",
       "</style>\n",
       "<table border=\"1\" class=\"dataframe\">\n",
       "  <thead>\n",
       "    <tr style=\"text-align: right;\">\n",
       "      <th></th>\n",
       "      <th>Store</th>\n",
       "      <th>Date</th>\n",
       "      <th>Weekly_Sales</th>\n",
       "      <th>Holiday_Flag</th>\n",
       "      <th>Temperature</th>\n",
       "      <th>Fuel_Price</th>\n",
       "      <th>CPI</th>\n",
       "      <th>Unemployment</th>\n",
       "    </tr>\n",
       "  </thead>\n",
       "  <tbody>\n",
       "    <tr>\n",
       "      <th>0</th>\n",
       "      <td>1</td>\n",
       "      <td>2010-02-05</td>\n",
       "      <td>1643690.90</td>\n",
       "      <td>0</td>\n",
       "      <td>42.31</td>\n",
       "      <td>2.572</td>\n",
       "      <td>211.096358</td>\n",
       "      <td>8.106</td>\n",
       "    </tr>\n",
       "    <tr>\n",
       "      <th>1</th>\n",
       "      <td>1</td>\n",
       "      <td>2010-02-12</td>\n",
       "      <td>1641957.44</td>\n",
       "      <td>1</td>\n",
       "      <td>38.51</td>\n",
       "      <td>2.548</td>\n",
       "      <td>211.242170</td>\n",
       "      <td>8.106</td>\n",
       "    </tr>\n",
       "    <tr>\n",
       "      <th>2</th>\n",
       "      <td>1</td>\n",
       "      <td>2010-02-19</td>\n",
       "      <td>1611968.17</td>\n",
       "      <td>0</td>\n",
       "      <td>39.93</td>\n",
       "      <td>2.514</td>\n",
       "      <td>211.289143</td>\n",
       "      <td>8.106</td>\n",
       "    </tr>\n",
       "    <tr>\n",
       "      <th>3</th>\n",
       "      <td>1</td>\n",
       "      <td>2010-02-26</td>\n",
       "      <td>1409727.59</td>\n",
       "      <td>0</td>\n",
       "      <td>46.63</td>\n",
       "      <td>2.561</td>\n",
       "      <td>211.319643</td>\n",
       "      <td>8.106</td>\n",
       "    </tr>\n",
       "    <tr>\n",
       "      <th>4</th>\n",
       "      <td>1</td>\n",
       "      <td>2010-03-05</td>\n",
       "      <td>1554806.68</td>\n",
       "      <td>0</td>\n",
       "      <td>46.50</td>\n",
       "      <td>2.625</td>\n",
       "      <td>211.350143</td>\n",
       "      <td>8.106</td>\n",
       "    </tr>\n",
       "    <tr>\n",
       "      <th>...</th>\n",
       "      <td>...</td>\n",
       "      <td>...</td>\n",
       "      <td>...</td>\n",
       "      <td>...</td>\n",
       "      <td>...</td>\n",
       "      <td>...</td>\n",
       "      <td>...</td>\n",
       "      <td>...</td>\n",
       "    </tr>\n",
       "    <tr>\n",
       "      <th>6430</th>\n",
       "      <td>45</td>\n",
       "      <td>2012-09-28</td>\n",
       "      <td>713173.95</td>\n",
       "      <td>0</td>\n",
       "      <td>64.88</td>\n",
       "      <td>3.997</td>\n",
       "      <td>192.013558</td>\n",
       "      <td>8.684</td>\n",
       "    </tr>\n",
       "    <tr>\n",
       "      <th>6431</th>\n",
       "      <td>45</td>\n",
       "      <td>2012-10-05</td>\n",
       "      <td>733455.07</td>\n",
       "      <td>0</td>\n",
       "      <td>64.89</td>\n",
       "      <td>3.985</td>\n",
       "      <td>192.170412</td>\n",
       "      <td>8.667</td>\n",
       "    </tr>\n",
       "    <tr>\n",
       "      <th>6432</th>\n",
       "      <td>45</td>\n",
       "      <td>2012-10-12</td>\n",
       "      <td>734464.36</td>\n",
       "      <td>0</td>\n",
       "      <td>54.47</td>\n",
       "      <td>4.000</td>\n",
       "      <td>192.327265</td>\n",
       "      <td>8.667</td>\n",
       "    </tr>\n",
       "    <tr>\n",
       "      <th>6433</th>\n",
       "      <td>45</td>\n",
       "      <td>2012-10-19</td>\n",
       "      <td>718125.53</td>\n",
       "      <td>0</td>\n",
       "      <td>56.47</td>\n",
       "      <td>3.969</td>\n",
       "      <td>192.330854</td>\n",
       "      <td>8.667</td>\n",
       "    </tr>\n",
       "    <tr>\n",
       "      <th>6434</th>\n",
       "      <td>45</td>\n",
       "      <td>2012-10-26</td>\n",
       "      <td>760281.43</td>\n",
       "      <td>0</td>\n",
       "      <td>58.85</td>\n",
       "      <td>3.882</td>\n",
       "      <td>192.308899</td>\n",
       "      <td>8.667</td>\n",
       "    </tr>\n",
       "  </tbody>\n",
       "</table>\n",
       "<p>6435 rows × 8 columns</p>\n",
       "</div>\n",
       "    <div class=\"colab-df-buttons\">\n",
       "\n",
       "  <div class=\"colab-df-container\">\n",
       "    <button class=\"colab-df-convert\" onclick=\"convertToInteractive('df-98bcf985-7f3b-471f-a88c-3765f2b9c90e')\"\n",
       "            title=\"Convert this dataframe to an interactive table.\"\n",
       "            style=\"display:none;\">\n",
       "\n",
       "  <svg xmlns=\"http://www.w3.org/2000/svg\" height=\"24px\" viewBox=\"0 -960 960 960\">\n",
       "    <path d=\"M120-120v-720h720v720H120Zm60-500h600v-160H180v160Zm220 220h160v-160H400v160Zm0 220h160v-160H400v160ZM180-400h160v-160H180v160Zm440 0h160v-160H620v160ZM180-180h160v-160H180v160Zm440 0h160v-160H620v160Z\"/>\n",
       "  </svg>\n",
       "    </button>\n",
       "\n",
       "  <style>\n",
       "    .colab-df-container {\n",
       "      display:flex;\n",
       "      gap: 12px;\n",
       "    }\n",
       "\n",
       "    .colab-df-convert {\n",
       "      background-color: #E8F0FE;\n",
       "      border: none;\n",
       "      border-radius: 50%;\n",
       "      cursor: pointer;\n",
       "      display: none;\n",
       "      fill: #1967D2;\n",
       "      height: 32px;\n",
       "      padding: 0 0 0 0;\n",
       "      width: 32px;\n",
       "    }\n",
       "\n",
       "    .colab-df-convert:hover {\n",
       "      background-color: #E2EBFA;\n",
       "      box-shadow: 0px 1px 2px rgba(60, 64, 67, 0.3), 0px 1px 3px 1px rgba(60, 64, 67, 0.15);\n",
       "      fill: #174EA6;\n",
       "    }\n",
       "\n",
       "    .colab-df-buttons div {\n",
       "      margin-bottom: 4px;\n",
       "    }\n",
       "\n",
       "    [theme=dark] .colab-df-convert {\n",
       "      background-color: #3B4455;\n",
       "      fill: #D2E3FC;\n",
       "    }\n",
       "\n",
       "    [theme=dark] .colab-df-convert:hover {\n",
       "      background-color: #434B5C;\n",
       "      box-shadow: 0px 1px 3px 1px rgba(0, 0, 0, 0.15);\n",
       "      filter: drop-shadow(0px 1px 2px rgba(0, 0, 0, 0.3));\n",
       "      fill: #FFFFFF;\n",
       "    }\n",
       "  </style>\n",
       "\n",
       "    <script>\n",
       "      const buttonEl =\n",
       "        document.querySelector('#df-98bcf985-7f3b-471f-a88c-3765f2b9c90e button.colab-df-convert');\n",
       "      buttonEl.style.display =\n",
       "        google.colab.kernel.accessAllowed ? 'block' : 'none';\n",
       "\n",
       "      async function convertToInteractive(key) {\n",
       "        const element = document.querySelector('#df-98bcf985-7f3b-471f-a88c-3765f2b9c90e');\n",
       "        const dataTable =\n",
       "          await google.colab.kernel.invokeFunction('convertToInteractive',\n",
       "                                                    [key], {});\n",
       "        if (!dataTable) return;\n",
       "\n",
       "        const docLinkHtml = 'Like what you see? Visit the ' +\n",
       "          '<a target=\"_blank\" href=https://colab.research.google.com/notebooks/data_table.ipynb>data table notebook</a>'\n",
       "          + ' to learn more about interactive tables.';\n",
       "        element.innerHTML = '';\n",
       "        dataTable['output_type'] = 'display_data';\n",
       "        await google.colab.output.renderOutput(dataTable, element);\n",
       "        const docLink = document.createElement('div');\n",
       "        docLink.innerHTML = docLinkHtml;\n",
       "        element.appendChild(docLink);\n",
       "      }\n",
       "    </script>\n",
       "  </div>\n",
       "\n",
       "\n",
       "<div id=\"df-69cafc06-0ede-405d-85c2-94c7b24aff01\">\n",
       "  <button class=\"colab-df-quickchart\" onclick=\"quickchart('df-69cafc06-0ede-405d-85c2-94c7b24aff01')\"\n",
       "            title=\"Suggest charts\"\n",
       "            style=\"display:none;\">\n",
       "\n",
       "<svg xmlns=\"http://www.w3.org/2000/svg\" height=\"24px\"viewBox=\"0 0 24 24\"\n",
       "     width=\"24px\">\n",
       "    <g>\n",
       "        <path d=\"M19 3H5c-1.1 0-2 .9-2 2v14c0 1.1.9 2 2 2h14c1.1 0 2-.9 2-2V5c0-1.1-.9-2-2-2zM9 17H7v-7h2v7zm4 0h-2V7h2v10zm4 0h-2v-4h2v4z\"/>\n",
       "    </g>\n",
       "</svg>\n",
       "  </button>\n",
       "\n",
       "<style>\n",
       "  .colab-df-quickchart {\n",
       "      --bg-color: #E8F0FE;\n",
       "      --fill-color: #1967D2;\n",
       "      --hover-bg-color: #E2EBFA;\n",
       "      --hover-fill-color: #174EA6;\n",
       "      --disabled-fill-color: #AAA;\n",
       "      --disabled-bg-color: #DDD;\n",
       "  }\n",
       "\n",
       "  [theme=dark] .colab-df-quickchart {\n",
       "      --bg-color: #3B4455;\n",
       "      --fill-color: #D2E3FC;\n",
       "      --hover-bg-color: #434B5C;\n",
       "      --hover-fill-color: #FFFFFF;\n",
       "      --disabled-bg-color: #3B4455;\n",
       "      --disabled-fill-color: #666;\n",
       "  }\n",
       "\n",
       "  .colab-df-quickchart {\n",
       "    background-color: var(--bg-color);\n",
       "    border: none;\n",
       "    border-radius: 50%;\n",
       "    cursor: pointer;\n",
       "    display: none;\n",
       "    fill: var(--fill-color);\n",
       "    height: 32px;\n",
       "    padding: 0;\n",
       "    width: 32px;\n",
       "  }\n",
       "\n",
       "  .colab-df-quickchart:hover {\n",
       "    background-color: var(--hover-bg-color);\n",
       "    box-shadow: 0 1px 2px rgba(60, 64, 67, 0.3), 0 1px 3px 1px rgba(60, 64, 67, 0.15);\n",
       "    fill: var(--button-hover-fill-color);\n",
       "  }\n",
       "\n",
       "  .colab-df-quickchart-complete:disabled,\n",
       "  .colab-df-quickchart-complete:disabled:hover {\n",
       "    background-color: var(--disabled-bg-color);\n",
       "    fill: var(--disabled-fill-color);\n",
       "    box-shadow: none;\n",
       "  }\n",
       "\n",
       "  .colab-df-spinner {\n",
       "    border: 2px solid var(--fill-color);\n",
       "    border-color: transparent;\n",
       "    border-bottom-color: var(--fill-color);\n",
       "    animation:\n",
       "      spin 1s steps(1) infinite;\n",
       "  }\n",
       "\n",
       "  @keyframes spin {\n",
       "    0% {\n",
       "      border-color: transparent;\n",
       "      border-bottom-color: var(--fill-color);\n",
       "      border-left-color: var(--fill-color);\n",
       "    }\n",
       "    20% {\n",
       "      border-color: transparent;\n",
       "      border-left-color: var(--fill-color);\n",
       "      border-top-color: var(--fill-color);\n",
       "    }\n",
       "    30% {\n",
       "      border-color: transparent;\n",
       "      border-left-color: var(--fill-color);\n",
       "      border-top-color: var(--fill-color);\n",
       "      border-right-color: var(--fill-color);\n",
       "    }\n",
       "    40% {\n",
       "      border-color: transparent;\n",
       "      border-right-color: var(--fill-color);\n",
       "      border-top-color: var(--fill-color);\n",
       "    }\n",
       "    60% {\n",
       "      border-color: transparent;\n",
       "      border-right-color: var(--fill-color);\n",
       "    }\n",
       "    80% {\n",
       "      border-color: transparent;\n",
       "      border-right-color: var(--fill-color);\n",
       "      border-bottom-color: var(--fill-color);\n",
       "    }\n",
       "    90% {\n",
       "      border-color: transparent;\n",
       "      border-bottom-color: var(--fill-color);\n",
       "    }\n",
       "  }\n",
       "</style>\n",
       "\n",
       "  <script>\n",
       "    async function quickchart(key) {\n",
       "      const quickchartButtonEl =\n",
       "        document.querySelector('#' + key + ' button');\n",
       "      quickchartButtonEl.disabled = true;  // To prevent multiple clicks.\n",
       "      quickchartButtonEl.classList.add('colab-df-spinner');\n",
       "      try {\n",
       "        const charts = await google.colab.kernel.invokeFunction(\n",
       "            'suggestCharts', [key], {});\n",
       "      } catch (error) {\n",
       "        console.error('Error during call to suggestCharts:', error);\n",
       "      }\n",
       "      quickchartButtonEl.classList.remove('colab-df-spinner');\n",
       "      quickchartButtonEl.classList.add('colab-df-quickchart-complete');\n",
       "    }\n",
       "    (() => {\n",
       "      let quickchartButtonEl =\n",
       "        document.querySelector('#df-69cafc06-0ede-405d-85c2-94c7b24aff01 button');\n",
       "      quickchartButtonEl.style.display =\n",
       "        google.colab.kernel.accessAllowed ? 'block' : 'none';\n",
       "    })();\n",
       "  </script>\n",
       "</div>\n",
       "    </div>\n",
       "  </div>\n"
      ],
      "text/plain": [
       "      Store       Date  Weekly_Sales  Holiday_Flag  Temperature  Fuel_Price  \\\n",
       "0         1 2010-02-05    1643690.90             0        42.31       2.572   \n",
       "1         1 2010-02-12    1641957.44             1        38.51       2.548   \n",
       "2         1 2010-02-19    1611968.17             0        39.93       2.514   \n",
       "3         1 2010-02-26    1409727.59             0        46.63       2.561   \n",
       "4         1 2010-03-05    1554806.68             0        46.50       2.625   \n",
       "...     ...        ...           ...           ...          ...         ...   \n",
       "6430     45 2012-09-28     713173.95             0        64.88       3.997   \n",
       "6431     45 2012-10-05     733455.07             0        64.89       3.985   \n",
       "6432     45 2012-10-12     734464.36             0        54.47       4.000   \n",
       "6433     45 2012-10-19     718125.53             0        56.47       3.969   \n",
       "6434     45 2012-10-26     760281.43             0        58.85       3.882   \n",
       "\n",
       "             CPI  Unemployment  \n",
       "0     211.096358         8.106  \n",
       "1     211.242170         8.106  \n",
       "2     211.289143         8.106  \n",
       "3     211.319643         8.106  \n",
       "4     211.350143         8.106  \n",
       "...          ...           ...  \n",
       "6430  192.013558         8.684  \n",
       "6431  192.170412         8.667  \n",
       "6432  192.327265         8.667  \n",
       "6433  192.330854         8.667  \n",
       "6434  192.308899         8.667  \n",
       "\n",
       "[6435 rows x 8 columns]"
      ]
     },
     "execution_count": 2,
     "metadata": {},
     "output_type": "execute_result"
    }
   ],
   "source": [
    "duplicates = df[df.duplicated() == True]\n",
    "duplicates # since this is empty we have no duplicates\n",
    "\n",
    "na_df = df.isna()\n",
    "na_true_vals = na_df[(na_df['Store'] == True) | (na_df['Date'] == True) | (na_df['Weekly_Sales'] == True) | (na_df['Holiday_Flag'] == True) |\n",
    "                     (na_df['Temperature'] == True) | (na_df['Fuel_Price'] == True) | (na_df['CPI'] == True) | (na_df['Unemployment'] == True)]\n",
    "na_true_vals # since this is empty we have no missing data\n",
    "\n",
    "df.dtypes\n",
    "df['Date'] = pd.to_datetime(df['Date'], format=\"%d-%m-%Y\")\n",
    "df.dtypes\n",
    "df"
   ]
  },
  {
   "cell_type": "markdown",
   "metadata": {
    "id": "IWgAVKk-1rgm",
    "jp-MarkdownHeadingCollapsed": true
   },
   "source": [
    "### Section C: Data Exploration and Summary Statistics"
   ]
  },
  {
   "cell_type": "markdown",
   "metadata": {
    "id": "uvpX9DQ7W_g8"
   },
   "source": [
    "It is commonly thought that holidays generate a lot of sales. Let's use the holiday flag and see if there's any correlation between whether there's a holiday and the weekly sales of the store.\n",
    "\n",
    "To do this, we'll apply the Mann Whitney U test, since the sales are not normally distributed, as shown in the plots following this analysis.\n",
    "\n",
    "We then consider the following hypotheses:\n",
    "\n",
    "\n",
    "> h_0: There is no difference in sales during holidays as compared to during no holidays\n",
    "\n",
    "> h_a: There is a difference in sales during holidays as compared to during no holidays\n",
    "\n",
    "\n",
    "We first split our dataset into two categories, one during the holidays and one without the holidays. These two sets will the be the basis for our Mann Whitney U, which will give us a value for p, which is the likelihood that the data comes from h_0. To conduct the Mann Whitny U, we use scipy's mannwhitneyu function. We find that the pvalue is 0.0258, suggesting that there is a 2.58% chance that the null hypothesis holds. Thus, it is likely that holidays are strongly correlated with sales, as common thought suggests."
   ]
  },
  {
   "cell_type": "code",
   "execution_count": 3,
   "metadata": {
    "colab": {
     "base_uri": "https://localhost:8080/"
    },
    "id": "3x58nBC2XZDC",
    "outputId": "b6fdb69f-5c5b-47e7-e9ad-0c419f0943d6"
   },
   "outputs": [
    {
     "data": {
      "text/plain": [
       "MannwhitneyuResult(statistic=1431297.0, pvalue=0.02589203255601349)"
      ]
     },
     "execution_count": 3,
     "metadata": {},
     "output_type": "execute_result"
    }
   ],
   "source": [
    "from scipy.stats import mannwhitneyu\n",
    "\n",
    "df_holidays = df[df['Holiday_Flag'] == 1]\n",
    "df_no_holidays = df[df['Holiday_Flag'] == 0]\n",
    "\n",
    "mannwhitneyu(df_holidays['Weekly_Sales'], df_no_holidays['Weekly_Sales'])"
   ]
  },
  {
   "cell_type": "markdown",
   "metadata": {
    "id": "jzZiy_4_bK-4"
   },
   "source": [
    "To show the difference in these two variables, we generate histograms of the sales for during holidays and during no holidays. This shows us both the distributions of the sales, as well as showing us the difference in sales during holidays."
   ]
  },
  {
   "cell_type": "code",
   "execution_count": 4,
   "metadata": {
    "colab": {
     "base_uri": "https://localhost:8080/",
     "height": 462
    },
    "id": "nUYRxAoCcKNd",
    "outputId": "7f5f6028-7cf1-4fb6-c651-c4efdb2d9966"
   },
   "outputs": [
    {
     "data": {
      "image/png": "[encoded data removed]",
      "text/plain": [
       "<Figure size 640x480 with 2 Axes>"
      ]
     },
     "metadata": {},
     "output_type": "display_data"
    }
   ],
   "source": [
    "from matplotlib import ticker\n",
    "\n",
    "df['Divided_Weekly_Sales'] = df['Weekly_Sales']/1_000_000\n",
    "\n",
    "axes = df.hist('Divided_Weekly_Sales', by = 'Holiday_Flag', xrot = 0)\n",
    "\n",
    "count = 0\n",
    "for ax in axes.flatten():\n",
    "  ax.set_ylabel(\"Count\")\n",
    "  ax.set_xlabel(\"Weekly Sales (Millions USD)\")\n",
    "  if (count == 0):\n",
    "    ax.set_title(\"No Holidays\")\n",
    "  else:\n",
    "    ax.set_title(\"Holidays\")\n",
    "  count += 1"
   ]
  },
  {
   "cell_type": "markdown",
   "metadata": {
    "id": "EsCLS1iliypz"
   },
   "source": [
    "Next, let's check if the consumer price index (CPI) is correlated with higher sales. The CPI aims to show changes in prices for goods often bought by consumers by creating a price for several goods commonly bought by consumers. Intuition suggests that higher consumer price index should lead to lower weekly sales. Let's try and test the validity of this hypothesis.\n",
    "\n",
    "To do this, we'll check for correlation by using Pearson's correlation coefficient with the p-value. This is done using scipy's pearsonr function.\n",
    "\n",
    "The p-value is 5.44 * 10^-9, which suggests that the CPI is correlated with weekly sales. However pearson's r is low, which suggests that the linear trend is weak.\n"
   ]
  },
  {
   "cell_type": "code",
   "execution_count": 5,
   "metadata": {
    "colab": {
     "base_uri": "https://localhost:8080/"
    },
    "id": "uTdT9WlwjFNI",
    "outputId": "b5c17739-6bd2-4fba-9f80-c6367cabe054"
   },
   "outputs": [
    {
     "data": {
      "text/plain": [
       "PearsonRResult(statistic=-0.07263416204017623, pvalue=5.438292612176735e-09)"
      ]
     },
     "execution_count": 5,
     "metadata": {},
     "output_type": "execute_result"
    }
   ],
   "source": [
    "from scipy.stats import pearsonr\n",
    "\n",
    "pearsonr(df['Weekly_Sales'], df['CPI'])"
   ]
  },
  {
   "cell_type": "markdown",
   "metadata": {
    "id": "2PMtcELknOyW"
   },
   "source": [
    "To better see the trend between the two, let's use a scatterplot to show the trend. We'll put CPI in the x-axis and Weekly Sales in the y-axis.\n",
    "\n",
    "Looking at the scatterplot, it is clear that there is certainly no linear relationship. However, it is clear that there are large buckets in the CPI, namely, 125-145, 180-200, and 200-230. It's unclear why these specific buckets have emerged, but it is likely there is a reason that needs exploring to find out why they have emerged."
   ]
  },
  {
   "cell_type": "code",
   "execution_count": 6,
   "metadata": {
    "colab": {
     "base_uri": "https://localhost:8080/",
     "height": 490
    },
    "id": "y4DD0f-nnN4b",
    "outputId": "fb4b44d0-9bb3-44f2-fb5b-aa256dcd3ed0"
   },
   "outputs": [
    {
     "data": {
      "text/plain": [
       "Text(0, 0.5, 'Weekly Sales (Millions USD)')"
      ]
     },
     "execution_count": 6,
     "metadata": {},
     "output_type": "execute_result"
    },
    {
     "data": {
      "image/png": "[encoded data removed]",
      "text/plain": [
       "<Figure size 640x480 with 1 Axes>"
      ]
     },
     "metadata": {},
     "output_type": "display_data"
    }
   ],
   "source": [
    "axes = df.plot.scatter(x = 'CPI', y = 'Divided_Weekly_Sales')\n",
    "\n",
    "axes.set_title(\"Weekly Sales vs CPI\")\n",
    "axes.set_ylabel(\"Weekly Sales (Millions USD)\")"
   ]
  },
  {
   "cell_type": "markdown",
   "metadata": {
    "id": "n_E9iYT_6Tw5"
   },
   "source": [
    "Let's get a breakdown of which stores sell the most and which stores sell the least. To do this, we'll first calculate the total sales for each store. Then, we'll create a pie chart to visualize the amount of sales for each store relative to the total sales.\n",
    "\n",
    "Looking at the pie chart, we see that no particular store constitutes more than 1/15 of the total profits of all the walmarts. When we take a look at a bar chart plotting the sales, we see that stores range \\$40 million and \\$300 million total profits (for our dataset)."
   ]
  },
  {
   "cell_type": "code",
   "execution_count": 7,
   "metadata": {
    "colab": {
     "base_uri": "https://localhost:8080/",
     "height": 424
    },
    "id": "EHzCLPEDChA2",
    "outputId": "9a31d529-6824-4271-bde1-7b4ca4ca323f"
   },
   "outputs": [
    {
     "data": {
      "text/plain": [
       "<Axes: ylabel='Weekly_Sales'>"
      ]
     },
     "execution_count": 7,
     "metadata": {},
     "output_type": "execute_result"
    },
    {
     "data": {
      "image/png": "[encoded data removed]",
      "text/plain": [
       "<Figure size 640x480 with 1 Axes>"
      ]
     },
     "metadata": {},
     "output_type": "display_data"
    }
   ],
   "source": [
    "store_sales_series = df.groupby(\"Store\")['Weekly_Sales'].sum()\n",
    "store_sales_series = store_sales_series.sort_values(ascending = False)\n",
    "not_top_ten_sum = store_sales_series.tail(len(store_sales_series) - 5).sum()\n",
    "store_sales_df = store_sales_series.head(5).to_frame()\n",
    "store_sales_df.loc['Rest Of Stores'] = not_top_ten_sum\n",
    "store_sales_df['Divided_Weekly_Sales'] = store_sales_df['Weekly_Sales']/(1_000_000)\n",
    "store_sales_df.plot.pie(y='Weekly_Sales')\n"
   ]
  },
  {
   "cell_type": "code",
   "execution_count": 8,
   "metadata": {
    "colab": {
     "base_uri": "https://localhost:8080/",
     "height": 493
    },
    "id": "ysKN9aOnAwFL",
    "outputId": "a736b8ec-1cb1-4673-f219-e8f9563295ff"
   },
   "outputs": [
    {
     "data": {
      "text/plain": [
       "Text(0, 0.5, 'Total Sales (Millions USD)')"
      ]
     },
     "execution_count": 8,
     "metadata": {},
     "output_type": "execute_result"
    },
    {
     "data": {
      "image/png": "[encoded data removed]",
      "text/plain": [
       "<Figure size 640x480 with 1 Axes>"
      ]
     },
     "metadata": {},
     "output_type": "display_data"
    }
   ],
   "source": [
    "axes = (store_sales_series/1_000_000).plot.bar()\n",
    "axes.set_title(\"Total Sales by Store\")\n",
    "axes.set_ylabel(\"Total Sales (Millions USD)\")"
   ]
  },
  {
   "cell_type": "markdown",
   "metadata": {
    "id": "1yUoryVSCVRE"
   },
   "source": [
    "Let's test for similarity in sales between different seasons. To do this, we'll first have to split our data into four seasons. I'm going to consider any date from December - February as winter, any date from March - May as spring, any date from June - August as summer, and any date from September - November as fall (I know these don't technically line up with the official dates for winter, but December 20th feels a lot more like winter than it does like fall).\n",
    "\n",
    "We'll then use ANOVA to analyse if these four seasons each have similar distributions of sales. Consider the following hypotheses:\n",
    "\n",
    "> h_0: All 4 seasons have the same distribution of weekly sales.\n",
    "\n",
    "> h_a: There is one of the seasons that has a different distribution in weekly sales.\n",
    "\n",
    "ANOVA will give us a p-value which will allow us to check for the likelihood of each of these hypotheses. To perform ANOVA, we'll use scipy's f_oneway function. Performing ANOVA, we see that we have a p-value of 0.13, which is more than 0.05. Thus, there is a 13% chance that the null hypothesis is true, so we would consider this not statistically significant. If the it were to be statistically significant, we would want to consider some post-hoc tests, but that seems unnecessary for the time being.\n",
    "\n",
    "To visualize the differences (even though not statistically significant), we'll create a histogram for the weekly sales during each season. Looking at the histogram, we can see that there are slight differences, but they all approximate a similar shape."
   ]
  },
  {
   "cell_type": "code",
   "execution_count": 9,
   "metadata": {
    "colab": {
     "base_uri": "https://localhost:8080/"
    },
    "id": "cwBADBfEDbTu",
    "outputId": "aecf127a-1ba8-44be-8a50-93cd91955ba2"
   },
   "outputs": [
    {
     "data": {
      "text/plain": [
       "F_onewayResult(statistic=4.683342443521907, pvalue=0.0028568353078323927)"
      ]
     },
     "execution_count": 9,
     "metadata": {},
     "output_type": "execute_result"
    }
   ],
   "source": [
    "from scipy.stats import f_oneway\n",
    "\n",
    "df_winter = df[(df['Date'].dt.month == 1) | (df['Date'].dt.month == 2) | (df['Date'].dt.month == 12)]\n",
    "df_spring = df[(df['Date'].dt.month == 3) | (df['Date'].dt.month == 4) | (df['Date'].dt.month == 5)]\n",
    "df_summer = df[(df['Date'].dt.month == 6) | (df['Date'].dt.month == 7) | (df['Date'].dt.month == 8)]\n",
    "df_fall = df[(df['Date'].dt.month == 9) | (df['Date'].dt.month == 10) | (df['Date'].dt.month == 11)]\n",
    "\n",
    "f_oneway(df_winter['Weekly_Sales'], df_spring['Weekly_Sales'], df_summer['Weekly_Sales'], df_fall['Weekly_Sales'])"
   ]
  },
  {
   "cell_type": "code",
   "execution_count": 10,
   "metadata": {
    "colab": {
     "base_uri": "https://localhost:8080/",
     "height": 462
    },
    "id": "YomY-hbBFXio",
    "outputId": "a7ff2424-0325-48fc-87e0-36beb4270b31"
   },
   "outputs": [
    {
     "data": {
      "image/png": "[encoded data removed]",
      "text/plain": [
       "<Figure size 640x480 with 4 Axes>"
      ]
     },
     "metadata": {},
     "output_type": "display_data"
    }
   ],
   "source": [
    "def season_mapping(x):\n",
    "  if 3 <= x <= 5:\n",
    "    return \"Spring\"\n",
    "  elif 6 <= x <= 8:\n",
    "    return \"Summer\"\n",
    "  elif 9 <= x <= 11:\n",
    "    return \"Fall\"\n",
    "  else:\n",
    "    return \"Winter\"\n",
    "\n",
    "df['Season'] = df['Date'].dt.month\n",
    "df['Season'] = df['Season'].apply(season_mapping)\n",
    "\n",
    "axes = df.hist('Divided_Weekly_Sales', by = 'Season', xrot = 0)\n",
    "\n",
    "for ax in axes.flatten():\n",
    "  ax.set_ylabel(\"Count\")\n",
    "  ax.set_xlabel(\"Weekly Sales (Millions USD)\")"
   ]
  },
  {
   "cell_type": "markdown",
   "metadata": {
    "id": "HHJwqxTMGYvA"
   },
   "source": [
    "After doing some exploratory data analysis, we've found a couple of interesting trends and correlations between factors. This will be useful as we transition into the later phases of analysis, where we'll eventually try to build up a model which can estimate the weekly sales based off of the factors present in the dataset. We haven't really investigated temperature and fuel price yet, but as we move forward, we'll have to investigate their relationship to weekly sales as well. Moving forward, it would also be interesting to analyse on a store by store basis, and see if any specific factors are more statistically relevant in certain stores as compared to others."
   ]
  },
  {
   "cell_type": "markdown",
   "metadata": {
    "id": "EAKyyxr910ai",
    "jp-MarkdownHeadingCollapsed": true
   },
   "source": [
    "### Section D: ML Algorithm Design/Development"
   ]
  },
  {
   "cell_type": "markdown",
   "metadata": {
    "id": "gc5P9JOQE_py"
   },
   "source": [
    "Let's build some predictors to try and predict Walmart weekly sales based on certain factors. We'll try the following three models to predict weekly sales:\n",
    "\n",
    "\n",
    "1.   K Nearest Neighbors (n_neighbors = 5)\n",
    "2.   Linear Regression\n",
    "3.   Polynomial Regression\n",
    "4.   Neural Network (using the Adam optimizer)\n",
    "\n",
    "We'll then analyze the success of these various methods, and see which one performed the best.\n",
    "\n",
    "To implement these methods, we will use the sklearn library for the first 3, and the PyTorch library for our neural network."
   ]
  },
  {
   "cell_type": "markdown",
   "metadata": {
    "id": "jqf6DlQlwBso"
   },
   "source": [
    "Before implementing our machine learning, we once again have to clean up our data, and decide on some hyperparameters we'll be using. Let's tackle cleaning up the data first.The data preparation methods have been described in the list below.  \n",
    "\n",
    "*   Since our weekly sales data is the target, we won't need to normalize it. However, for the sake of making our errors readable (squaring numbers in the orders of millions gets big very quickly), we'll use the already defined divided_weekly_sales column as our target.\n",
    "*   For our season and holiday columns, we'll apply one-hot encoding as they are categorical variables.\n",
    "*   For our numerical features, we'll use Z-score normalization, as these come closer to approximating a normal distribution (temperature is approximately normal, fuel_price follows a bimodal distribution, CPI doesn't really follow anything, and Unemployment is approximately normal)\n",
    "\n"
   ]
  },
  {
   "cell_type": "markdown",
   "metadata": {
    "id": "B0GRb-3rG6xh"
   },
   "source": [
    "We'll also need to decide on a test training split. We'll use an 80/20 split in order to have a good amount of training data while not overfitting. Now that we have a plan of what to do, we'll import the necessary functions and use them to put our plan into action."
   ]
  },
  {
   "cell_type": "markdown",
   "metadata": {
    "id": "wzuwXnIr16y8",
    "jp-MarkdownHeadingCollapsed": true
   },
   "source": [
    "### Section E: ML Algorithm Training"
   ]
  },
  {
   "cell_type": "code",
   "execution_count": 42,
   "metadata": {
    "id": "IP8U7KJFxla8"
   },
   "outputs": [],
   "source": [
    "from sklearn.model_selection import train_test_split\n",
    "from sklearn.preprocessing import StandardScaler\n",
    "from sklearn.neighbors import KNeighborsRegressor\n",
    "from sklearn.model_selection import train_test_split, cross_val_score, StratifiedKFold\n",
    "from sklearn.metrics import mean_squared_error, r2_score\n",
    "\n",
    "model_df = df\n",
    "model_df = pd.get_dummies(df, columns = ['Season', 'Holiday_Flag'])\n",
    "\n",
    "X = model_df.drop(['Date', 'Store', 'Weekly_Sales'], axis=1)\n",
    "y = model_df['Divided_Weekly_Sales']\n",
    "X_train, X_test, y_train, y_test = train_test_split(X, y, test_size=0.2, random_state=42)\n",
    "\n",
    "scaler = StandardScaler()\n",
    "X_train_scaled = scaler.fit_transform(X_train)\n",
    "X_test_scaled = scaler.fit_transform(X_test)\n",
    "\n",
    "knn = KNeighborsRegressor()\n",
    "y_knn_train_pred = knn.fit(X_train_scaled, y_train).predict(X_train_scaled)\n",
    "y_knn_test_pred = knn.fit(X_train_scaled, y_train).predict(X_test_scaled)\n",
    "\n",
    "mse_knn_train = mean_squared_error(y_train, y_knn_train_pred)\n",
    "mse_knn_test = mean_squared_error(y_test, y_knn_test_pred)\n",
    "r2_knn_train = r2_score(y_train, y_knn_train_pred)\n",
    "r2_knn_test = r2_score(y_test, y_knn_test_pred)"
   ]
  },
  {
   "cell_type": "code",
   "execution_count": 44,
   "metadata": {
    "id": "2SqoHB3shxJv"
   },
   "outputs": [],
   "source": [
    "from sklearn.linear_model import LinearRegression\n",
    "from sklearn.preprocessing import PolynomialFeatures\n",
    "from sklearn.pipeline import make_pipeline\n",
    "\n",
    "degree_linear = 1\n",
    "degree_poly = 3\n",
    "\n",
    "pipe_linear = make_pipeline(PolynomialFeatures(degree=degree_linear), LinearRegression())\n",
    "pipe_poly = make_pipeline(PolynomialFeatures(degree=degree_poly), LinearRegression())\n",
    "\n",
    "y_linear_train_pred = pipe_linear.fit(X_train_scaled, y_train).predict(X_train_scaled)\n",
    "y_poly_train_pred = pipe_poly.fit(X_train_scaled, y_train).predict(X_train_scaled)\n",
    "y_linear_test_pred = pipe_linear.fit(X_train_scaled, y_train).predict(X_test_scaled)\n",
    "y_poly_test_pred = pipe_poly.fit(X_train_scaled, y_train).predict(X_test_scaled)\n",
    "\n",
    "mse_linear_train = mean_squared_error(y_train, y_linear_train_pred)\n",
    "mse_linear_test = mean_squared_error(y_test, y_linear_test_pred)\n",
    "r2_linear_train = r2_score(y_train, y_linear_train_pred)\n",
    "r2_linear_test = r2_score(y_test, y_linear_test_pred)\n",
    "\n",
    "mse_poly_train = mean_squared_error(y_train, y_poly_train_pred)\n",
    "mse_poly_test = mean_squared_error(y_test, y_poly_test_pred)\n",
    "r2_poly_train = r2_score(y_train, y_poly_train_pred)\n",
    "r2_poly_test = r2_score(y_test, y_poly_test_pred)"
   ]
  },
  {
   "cell_type": "code",
   "execution_count": 29,
   "metadata": {
    "id": "iEdPst9XnoAV"
   },
   "outputs": [],
   "source": [
    "import torch\n",
    "from torch.utils.data import DataLoader, TensorDataset\n",
    "import torch.nn as nn\n",
    "import torch.optim as optim\n",
    "\n",
    "class NeuralNetwork(nn.Module):\n",
    "  def __init__(self, input_size, output_size):\n",
    "    super().__init__()\n",
    "    self.flatten = nn.Flatten()\n",
    "    self.linear_relu_stack = nn.Sequential(\n",
    "      nn.Linear(input_size, 512),\n",
    "      nn.ReLU(),\n",
    "      nn.Linear(512, 512),\n",
    "      nn.ReLU(),\n",
    "      nn.Linear(512, output_size)\n",
    "    )\n",
    "  def forward(self, x):\n",
    "    x = self.flatten(x)\n",
    "    logits = self.linear_relu_stack(x)\n",
    "    return logits\n",
    "\n",
    "neural_network = NeuralNetwork(X_train.shape[1], 1)\n",
    "\n",
    "loss_function = nn.MSELoss()\n",
    "optimizer = optim.Adam(neural_network.parameters(), lr=0.01)\n",
    "\n",
    "num_epochs = 200\n",
    "losses = []\n",
    "\n",
    "\n",
    "for epoch in range(num_epochs):\n",
    "  inputs = torch.tensor(X_train.to_numpy().astype(np.float32), dtype=torch.float32)\n",
    "  targets = torch.tensor(y_train, dtype=torch.float32)\n",
    "\n",
    "  pred = neural_network(inputs)\n",
    "  loss = loss_function(pred, targets.view(-1, 1))\n",
    "\n",
    "  optimizer.zero_grad()\n",
    "  loss.backward()\n",
    "  optimizer.step()\n",
    "\n",
    "  losses.append(loss.item())\n"
   ]
  },
  {
   "cell_type": "markdown",
   "metadata": {
    "id": "gSFa_bmf0zSU",
    "jp-MarkdownHeadingCollapsed": true
   },
   "source": [
    "### Section F: Visualization, Result Analysis, Conclusion"
   ]
  },
  {
   "cell_type": "markdown",
   "metadata": {
    "id": "82z8KEV9qwYT"
   },
   "source": [
    "Now that we've built our predictors, let's take a look at how they did. First, let's take a look at the mean squared error for all of our models. For our neural network, the value printed will the mean squared error of the final model, and for the others, we'll have different values for test and training data."
   ]
  },
  {
   "cell_type": "code",
   "execution_count": 46,
   "metadata": {
    "colab": {
     "base_uri": "https://localhost:8080/"
    },
    "id": "XZihjzX3sP3q",
    "outputId": "5f360d40-b1fd-42b9-f701-410c12b23b1d"
   },
   "outputs": [
    {
     "name": "stdout",
     "output_type": "stream",
     "text": [
      "K Nearest Neighbors Method:\n",
      "  MSE Train: 0.0070\n",
      "  MSE Test: 0.0103\n",
      "  R2 Train: 0.9781\n",
      "  R2 Test: 0.9681\n",
      "\n",
      "Linear Method:\n",
      "  MSE Train: 0.0000\n",
      "  MSE Test: 0.0001\n",
      "  R2 Train: 1.0000\n",
      "  R2 Test: 0.9996\n",
      "\n",
      "Polynomial (Degree 3) Method:\n",
      "  MSE Train: 0.0000\n",
      "  MSE Test: 0.0007\n",
      "  R2 Train: 1.0000\n",
      "  R2 Test: 0.9979\n",
      "\n",
      "Neural Network\n",
      "  MSE: 0.33402830362319946\n"
     ]
    }
   ],
   "source": [
    "results = {\n",
    "    \"K Nearest Neighbors\": {\n",
    "        \"MSE Train\": mse_knn_train,\n",
    "        \"MSE Test\": mse_knn_test,\n",
    "        \"R2 Train\": r2_knn_train,\n",
    "        \"R2 Test\": r2_knn_test\n",
    "    },\n",
    "    \"Linear\": {\n",
    "        \"MSE Train\": mse_linear_train,\n",
    "        \"MSE Test\": mse_linear_test,\n",
    "        \"R2 Train\": r2_linear_train,\n",
    "        \"R2 Test\": r2_linear_test\n",
    "    },\n",
    "    \"Polynomial (Degree 3)\": {\n",
    "        \"MSE Train\": mse_poly_train,\n",
    "        \"MSE Test\": mse_poly_test,\n",
    "        \"R2 Train\": r2_poly_train,\n",
    "        \"R2 Test\": r2_poly_test\n",
    "    }\n",
    "}\n",
    "\n",
    "for method, metrics in results.items():\n",
    "    print(f\"{method} Method:\")\n",
    "    print(f\"  MSE Train: {metrics['MSE Train']:.4f}\")\n",
    "    print(f\"  MSE Test: {metrics['MSE Test']:.4f}\")\n",
    "    print(f\"  R2 Train: {metrics['R2 Train']:.4f}\")\n",
    "    print(f\"  R2 Test: {metrics['R2 Test']:.4f}\")\n",
    "    print()\n",
    "\n",
    "print(\"Neural Network\")\n",
    "print(f\"  MSE: {losses[-1]}\")"
   ]
  },
  {
   "cell_type": "code",
   "execution_count": 36,
   "metadata": {
    "colab": {
     "base_uri": "https://localhost:8080/",
     "height": 472
    },
    "id": "fJ1ZoxA8qSZH",
    "outputId": "a891edce-b6c2-45c2-863a-8b88bc914258"
   },
   "outputs": [
    {
     "data": {
      "image/png": "[encoded data removed]",
      "text/plain": [
       "<Figure size 640x480 with 1 Axes>"
      ]
     },
     "metadata": {},
     "output_type": "display_data"
    }
   ],
   "source": [
    "import matplotlib.pyplot as plt\n",
    "\n",
    "plt.plot(losses, label=\"Loss\")\n",
    "plt.xlabel('Epochs')\n",
    "plt.ylabel('Loss')\n",
    "plt.title(\"Loss Curve\")\n",
    "plt.legend()\n",
    "plt.show()"
   ]
  },
  {
   "cell_type": "code",
   "execution_count": 41,
   "metadata": {
    "colab": {
     "base_uri": "https://localhost:8080/",
     "height": 472
    },
    "id": "uE_5eVI1vdDf",
    "outputId": "f6766e43-054f-47c8-f9ba-a699bc37b9a7"
   },
   "outputs": [
    {
     "data": {
      "image/png": "[encoded data removed]",
      "text/plain": [
       "<Figure size 640x480 with 1 Axes>"
      ]
     },
     "metadata": {},
     "output_type": "display_data"
    }
   ],
   "source": [
    "plt.plot(losses[3:], label=\"Loss\")\n",
    "plt.xlabel('Epochs')\n",
    "plt.ylabel('Loss')\n",
    "plt.title(\"Loss Curve (Excludes first 3 Epochs)\")\n",
    "plt.legend()\n",
    "plt.show()\n"
   ]
  },
  {
   "cell_type": "markdown",
   "metadata": {
    "id": "E6HpTht1vmZD"
   },
   "source": [
    "After looking at our results, we notice some really interesting trends. Firstly, our neural network actually performed significantly worse than both linear and polynomial fitting, which was unexpected. Our linear and polynomial fitting did amazingly. The mean squared error our linear model was 0.0000 on the training dataset and 0.0001 on the testing dataset, which is a great performance. Similarly, our polynomial model did well, with a mean squared error of 0.0000 on the training dataset and a mean squared error of 0.0007 on the testing dataset. Frankly, I didn't expect it to go this well, so I'm wondering if the dataset was manipulated to be this good for such types of regression, but I don't see anything suggesting that it was manipulated. Our neural network and K-nearest neighbors regressor did alright, but in comparison to the linear and polynomial regression models, it did far worse."
   ]
  },
  {
   "cell_type": "markdown",
   "metadata": {
    "id": "3amtax2t0hia"
   },
   "source": [
    "Our R2 coefficients are high in both our linear and polynomial model, and fairly high, although lower, in our K-nearest neighbors model."
   ]
  },
  {
   "cell_type": "markdown",
   "metadata": {
    "id": "HzzVOL_3xjg2"
   },
   "source": [
    "Taking a closer look at our neural network, we see that the loss is greatest by a large margin in the first few epochs as expected. I've plotted the loss a second time so that we can see better how the loss decreases over epochs, since the loss of the first three epochs far overshadowed that of the later epochs, even immediately after. Looking the second graph, we see a fairly normal loss curve, which appears to stop decreasing by much around the 75 epoch range."
   ]
  },
  {
   "cell_type": "markdown",
   "metadata": {
    "id": "eErN52x8y4oU"
   },
   "source": [
    "As a general conclusion, we've seen that linear and polynomial fitting work extremely well in prediction on this data set, while K-nearest neighbors and neural network performed comparatively worse. Based on the extreme accuracy of the results of linear and polynomial fitting, we have reason to suspect the data was manipulated, and of course, in practice, predicting sales based off data would require one to train models specific to their dataset (for example, Walmart sales will differ to say, Home Depot sales). However, we have provided a framework which can be easily modified to train models to predict sales on any sort of sales dataframes that are cleaned properly, and the methods used here will be useful in other similar projects."
   ]
  }
 ],
 "metadata": {
  "colab": {
   "provenance": []
  },
  "kernelspec": {
   "display_name": "Python 3 (ipykernel)",
   "language": "python",
   "name": "python3"
  },
  "language_info": {
   "codemirror_mode": {
    "name": "ipython",
    "version": 3
   },
   "file_extension": ".py",
   "mimetype": "text/x-python",
   "name": "python",
   "nbconvert_exporter": "python",
   "pygments_lexer": "ipython3",
   "version": "3.11.9"
  }
 },
 "nbformat": 4,
 "nbformat_minor": 4
}
